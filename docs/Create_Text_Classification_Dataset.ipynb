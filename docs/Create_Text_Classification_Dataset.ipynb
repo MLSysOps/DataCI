{
 "cells": [
  {
   "cell_type": "markdown",
   "source": [
    "In this tutorial, we are going to build a text dataset for category classification. After this tutorial,\n",
    "we will have a basic picture of how to use DataCI to manage different versions of datasets,\n",
    "their data generating pipelines, and quickly adapt previous data scientists efforts to new versions of datasets.\n",
    "\n",
    "This tutorial uses a simplified workflow from industry. Given a product title, we are going to determine the product\n",
    "category.\n",
    "\n",
    "# 0. Prerequisites\n",
    "\n",
    "## Initialize DataCI"
   ],
   "metadata": {
    "collapsed": false,
    "pycharm": {
     "name": "#%% md\n"
    }
   }
  },
  {
   "cell_type": "code",
   "execution_count": 1,
   "outputs": [
    {
     "name": "stdout",
     "output_type": "stream",
     "text": [
      "D:\\Code\\PycharmProjects\\DataCI\n"
     ]
    }
   ],
   "source": [
    "%cd .."
   ],
   "metadata": {
    "collapsed": false,
    "pycharm": {
     "name": "#%%\n"
    }
   }
  },
  {
   "cell_type": "code",
   "execution_count": 2,
   "outputs": [
    {
     "name": "stdout",
     "output_type": "stream",
     "text": [
      "Initialized DVC repository.\n",
      "\n",
      "+---------------------------------------------------------------------+\n",
      "|                                                                     |\n",
      "|        DVC has enabled anonymous aggregate usage analytics.         |\n",
      "|     Read the analytics documentation (and how to opt-out) here:     |\n",
      "|             <https://dvc.org/doc/user-guide/analytics>              |\n",
      "|                                                                     |\n",
      "+---------------------------------------------------------------------+\n",
      "\n",
      "What's next?\n",
      "------------\n",
      "- Check out the documentation: <https://dvc.org/doc>\n",
      "- Get help and share ideas: <https://dvc.org/chat>\n",
      "- Star us on GitHub: <https://github.com/iterative/dvc>\n"
     ]
    }
   ],
   "source": [
    "!python dataci/command/init.py -f"
   ],
   "metadata": {
    "collapsed": false,
    "pycharm": {
     "name": "#%%\n"
    }
   }
  },
  {
   "cell_type": "markdown",
   "source": [
    "\n",
    "## Download Sample Raw Data\n",
    "\n",
    "Assume we have sampled 20K raw data from online product database, and hand over these raw data to annotators for\n",
    "verify their product category which are filled by sellers and contains some noise. Now, the first batch of\n",
    "10K finish labelling data are returned."
   ],
   "metadata": {
    "collapsed": false,
    "pycharm": {
     "name": "#%% md\n"
    }
   }
  },
  {
   "cell_type": "code",
   "execution_count": null,
   "outputs": [],
   "source": [
    "%%bash\n",
    "# saved at data/pairwise_raw/\n",
    "mkdir -p data\n",
    "rm -r data/*\n",
    "cp -r dataset/multimodal_pairwise_v1 data/pairwise_raw/"
   ],
   "metadata": {
    "collapsed": false,
    "pycharm": {
     "name": "#%%\n"
    }
   }
  },
  {
   "cell_type": "markdown",
   "source": [
    "\n",
    "This dataset contains train and val splits. Each split contains a CSV file with 3 columns:\n",
    "`product_id`, `product_title` and `lv3_category`. We are going to build a pipeline to classify the product category\n",
    "(`lv3_category`) based on its raw, dirty `product_title`."
   ],
   "metadata": {
    "collapsed": false,
    "pycharm": {
     "name": "#%% md\n"
    }
   }
  },
  {
   "cell_type": "markdown",
   "source": [
    "# 1. Build Text Classification Dataset\n",
    "\n",
    "## 1.1 Publish raw data\n",
    "\n",
    "Add this dataset with two split into the data repository."
   ],
   "metadata": {
    "collapsed": false,
    "pycharm": {
     "name": "#%% md\n"
    }
   }
  },
  {
   "cell_type": "code",
   "execution_count": 3,
   "outputs": [
    {
     "name": "stderr",
     "output_type": "stream",
     "text": [
      "INFO:dataci.dataset.publish:Caching dataset files: data\\pairwise_raw\\train.csv\n",
      "\\u280b Collecting stages from the workspace\n",
      "\\u2819 Checking graph\n",
      "\\u2839 Checking graph\n",
      "\n",
      "INFO:dataci.dataset.publish:Adding dataset to db: pairwise_raw_train@59e0e450440ba164f958621b15ed7e922cb96e80\n",
      "INFO:dataci.dataset.publish:Caching dataset files: data\\pairwise_raw\\val.csv\n",
      "\\u280b Collecting stages from the workspace\n",
      "\\u2819 Checking graph\n",
      "\\u2839 Checking graph\n",
      "\\u2838 Checking graph\n",
      "\n",
      "INFO:dataci.dataset.publish:Adding dataset to db: pairwise_raw_val@e65eb67c9e493c9861ffdaf12e9d6f4af9dbe83b\n"
     ]
    }
   ],
   "source": [
    "!python dataci/command/dataset.py publish -n pairwise_raw_train data/pairwise_raw/train.csv\n",
    "!python dataci/command/dataset.py publish -n pairwise_raw_val data/pairwise_raw/val.csv"
   ],
   "metadata": {
    "collapsed": false,
    "pycharm": {
     "name": "#%%\n"
    }
   }
  },
  {
   "cell_type": "markdown",
   "source": [
    "## 1.2 Build a dataset for text classification\n",
    "\n",
    "1. Build train dataset v1"
   ],
   "metadata": {
    "collapsed": false,
    "pycharm": {
     "name": "#%% md\n"
    }
   }
  },
  {
   "cell_type": "code",
   "execution_count": 4,
   "outputs": [],
   "source": [
    "import augly.text as txtaugs\n",
    "\n",
    "from dataci.pipeline import Pipeline, stage\n",
    "\n",
    "\n",
    "# Data processing: text augmentation\n",
    "@stage(inputs='pairwise_raw_train', outputs='text_aug.csv')\n",
    "def text_augmentation(inputs):\n",
    "    transform = txtaugs.InsertPunctuationChars(\n",
    "        granularity=\"all\",\n",
    "        cadence=5.0,\n",
    "        vary_chars=True,\n",
    "    )\n",
    "    inputs['to_product_name'] = inputs['to_product_name'].map(transform)\n",
    "    return inputs\n",
    "\n",
    "\n",
    "# Define data pipeline\n",
    "train_data_pipeline = Pipeline(name='train_data_pipeline', stages=[text_augmentation])\n",
    "train_data_pipeline.build()"
   ],
   "metadata": {
    "collapsed": false,
    "pycharm": {
     "name": "#%%\n"
    }
   }
  },
  {
   "cell_type": "markdown",
   "source": [
    "Run the train data pipeline:"
   ],
   "metadata": {
    "collapsed": false,
    "pycharm": {
     "name": "#%% md\n"
    }
   }
  },
  {
   "cell_type": "code",
   "execution_count": 5,
   "outputs": [
    {
     "data": {
      "text/plain": "<dataci.run.run.Run at 0x18fe9f55d60>"
     },
     "execution_count": 5,
     "metadata": {},
     "output_type": "execute_result"
    }
   ],
   "source": [
    "train_data_pipeline()"
   ],
   "metadata": {
    "collapsed": false,
    "pycharm": {
     "name": "#%%\n"
    }
   }
  },
  {
   "cell_type": "markdown",
   "source": [
    "The output `text_aug.csv` will be used as train dataset."
   ],
   "metadata": {
    "collapsed": false,
    "pycharm": {
     "name": "#%% md\n"
    }
   }
  },
  {
   "cell_type": "markdown",
   "source": [
    "2. Run training with the built train and val dataset v1\n",
    "Now you can simple train a pre-trained BERT on this text classification dataset v1:"
   ],
   "metadata": {
    "collapsed": false,
    "pycharm": {
     "name": "#%% md\n"
    }
   }
  },
  {
   "cell_type": "code",
   "execution_count": null,
   "outputs": [],
   "source": [
    "!python train.py --train-dataset ./train_data_pipeline:text_aug --val-dataset ./val_data_pipeline:text_clean"
   ],
   "metadata": {
    "collapsed": false,
    "pycharm": {
     "name": "#%%\n"
    }
   }
  },
  {
   "cell_type": "markdown",
   "source": [
    "3. Save data pipeline\n",
    "\n",
    "You can now publish your data pipeline for a better management."
   ],
   "metadata": {
    "collapsed": false,
    "pycharm": {
     "name": "#%% md\n"
    }
   }
  },
  {
   "cell_type": "code",
   "execution_count": 6,
   "outputs": [],
   "source": [
    "train_data_pipeline.publish()"
   ],
   "metadata": {
    "collapsed": false,
    "pycharm": {
     "name": "#%%\n"
    }
   }
  },
  {
   "cell_type": "markdown",
   "source": [],
   "metadata": {
    "collapsed": false,
    "pycharm": {
     "name": "#%% md\n"
    }
   }
  },
  {
   "cell_type": "code",
   "execution_count": 7,
   "outputs": [
    {
     "name": "stderr",
     "output_type": "stream",
     "text": [
      "INFO:dataci.run.save:Recover dvc file feat\\text_aug.csv.dvc\n",
      "INFO:dataci.dataset.publish:Caching dataset files: feat\\text_aug.csv\n",
      "INFO:dataci.dataset.publish:Adding dataset to db: train_data_pipeline:text_aug@15700c18bc4373af8ee4d282ad85ac1095be7924\n",
      "INFO:dataci.pipeline.pipeline:pairwise_raw_train@59e0e450440ba164f958621b15ed7e922cb96e80 >>> train_data_pipeline@dd8a7ce.run1 >>> train_data_pipeline:text_aug@None\n"
     ]
    },
    {
     "data": {
      "text/plain": "<dataci.run.run.Run at 0x18fe9ffac10>"
     },
     "execution_count": 7,
     "metadata": {},
     "output_type": "execute_result"
    }
   ],
   "source": [
    "train_data_pipeline()"
   ],
   "metadata": {
    "collapsed": false,
    "pycharm": {
     "name": "#%%\n"
    }
   }
  },
  {
   "cell_type": "markdown",
   "source": [
    "# 2. Try with New Data Augmentation Method\n",
    "\n",
    "Let's create a second version of `train_data_pipeline:text_aug` for text classification with\n",
    "different data augmentation method to improve the model performance."
   ],
   "metadata": {
    "collapsed": false,
    "pycharm": {
     "name": "#%% md\n"
    }
   }
  },
  {
   "cell_type": "markdown",
   "source": [
    "## 2.1 Write a second version train data pipeline\n",
    "\n",
    "We design a better data augmentation method for `train_data_pipeline_v2`:"
   ],
   "metadata": {
    "collapsed": false,
    "pycharm": {
     "name": "#%% md\n"
    }
   }
  },
  {
   "cell_type": "code",
   "execution_count": 8,
   "outputs": [],
   "source": [
    "@stage(inputs='pairwise_raw_train', outputs='text_aug.csv')\n",
    "def text_augmentation(inputs):\n",
    "    transform = txtaugs.Compose(\n",
    "        [\n",
    "            txtaugs.InsertWhitespaceChars(p=0.5),\n",
    "            txtaugs.InsertPunctuationChars(\n",
    "                granularity=\"all\",\n",
    "                cadence=5.0,\n",
    "                vary_chars=True,\n",
    "            )\n",
    "        ]\n",
    "    )\n",
    "    inputs['to_product_name'] = inputs['to_product_name'].map(transform)\n",
    "    return inputs\n",
    "\n",
    "train_data_pipeline_v2 = Pipeline(name='train_data_pipeline', stages=[text_augmentation])"
   ],
   "metadata": {
    "collapsed": false,
    "pycharm": {
     "name": "#%%\n"
    }
   }
  },
  {
   "cell_type": "markdown",
   "source": [
    "## 2.2 Test the pipeline v2 and publish"
   ],
   "metadata": {
    "collapsed": false,
    "pycharm": {
     "name": "#%% md\n"
    }
   }
  },
  {
   "cell_type": "code",
   "execution_count": 9,
   "outputs": [],
   "source": [
    "train_data_pipeline_v2()\n",
    "train_data_pipeline_v2.publish()"
   ],
   "metadata": {
    "collapsed": false,
    "pycharm": {
     "name": "#%%\n"
    }
   }
  },
  {
   "cell_type": "markdown",
   "source": [
    "## 2.3 Let's check our pipeline `train_data_pipeline`"
   ],
   "metadata": {
    "collapsed": false,
    "pycharm": {
     "name": "#%% md\n"
    }
   }
  },
  {
   "cell_type": "code",
   "execution_count": 10,
   "outputs": [
    {
     "name": "stdout",
     "output_type": "stream",
     "text": [
      "train_data_pipeline\n",
      "|  Version\tCreate time\n",
      "|- dd8a7ce\t2023-03-21 00:24:06\n",
      "|    |- run1\n",
      "|- ac84d6b\t2023-03-21 00:24:38\n"
     ]
    }
   ],
   "source": [
    "!python dataci/command/pipeline.py ls"
   ],
   "metadata": {
    "collapsed": false,
    "pycharm": {
     "name": "#%%\n"
    }
   }
  },
  {
   "cell_type": "markdown",
   "source": [
    "## 2.3 Publish text classification dataset v2\n",
    "\n",
    "It is easy to update output dataset once our data pipeline have new version:"
   ],
   "metadata": {
    "collapsed": false,
    "pycharm": {
     "name": "#%% md\n"
    }
   }
  },
  {
   "cell_type": "code",
   "execution_count": 11,
   "outputs": [
    {
     "name": "stderr",
     "output_type": "stream",
     "text": [
      "INFO:dataci.run.save:Recover dvc file feat\\text_aug.csv.dvc\n",
      "INFO:dataci.dataset.publish:Caching dataset files: feat\\text_aug.csv\n",
      "INFO:dataci.dataset.publish:Adding dataset to db: train_data_pipeline:text_aug@8eda1ec110dbbb07597d83c4fdb32b831c415792\n",
      "INFO:dataci.pipeline.pipeline:pairwise_raw_train@59e0e450440ba164f958621b15ed7e922cb96e80 >>> train_data_pipeline@ac84d6b.run1 >>> train_data_pipeline:text_aug@None\n"
     ]
    },
    {
     "data": {
      "text/plain": "<dataci.run.run.Run at 0x18fea0086a0>"
     },
     "execution_count": 11,
     "metadata": {},
     "output_type": "execute_result"
    }
   ],
   "source": [
    "train_data_pipeline_v2()"
   ],
   "metadata": {
    "collapsed": false,
    "pycharm": {
     "name": "#%%\n"
    }
   }
  },
  {
   "cell_type": "markdown",
   "source": [
    "# 3. Try with more raw data\n",
    "\n",
    "Our human annotators have finished the 2nd batch 10K data labelling. We publish the combined two batches of\n",
    "labeled raw data as v2:"
   ],
   "metadata": {
    "collapsed": false,
    "pycharm": {
     "name": "#%% md\n"
    }
   }
  },
  {
   "cell_type": "code",
   "execution_count": null,
   "outputs": [],
   "source": [
    "%%bash\n",
    "# Download pairwise_raw_v2\n",
    "cp -r dataset/multimodal_pairwise_v2 data/pairwise_raw_v2/"
   ],
   "metadata": {
    "collapsed": false,
    "pycharm": {
     "name": "#%%\n"
    }
   }
  },
  {
   "cell_type": "markdown",
   "source": [
    "Publish raw data v2:"
   ],
   "metadata": {
    "collapsed": false,
    "pycharm": {
     "name": "#%% md\n"
    }
   }
  },
  {
   "cell_type": "code",
   "execution_count": 12,
   "outputs": [
    {
     "name": "stderr",
     "output_type": "stream",
     "text": [
      "INFO:dataci.dataset.publish:Caching dataset files: data\\pairwise_raw_v2\\train.csv\n",
      "\\u280b Collecting stages from the workspace\n",
      "\\u2819 Collecting stages from the workspace\n",
      "\\u2839 Checking graph\n",
      "\\u2838 Checking graph\n",
      "\\u283c Checking graph\n",
      "\n",
      "INFO:dataci.dataset.publish:Adding dataset to db: pairwise_raw_train@134854fb9ad0090132e587e6a19e3f1f154319fa\n"
     ]
    }
   ],
   "source": [
    "!python dataci/command/dataset.py publish -n pairwise_raw_train data/pairwise_raw_v2/train.csv"
   ],
   "metadata": {
    "collapsed": false,
    "pycharm": {
     "name": "#%%\n"
    }
   }
  },
  {
   "cell_type": "markdown",
   "source": [
    "We can easily update our text classification dataset:"
   ],
   "metadata": {
    "collapsed": false,
    "pycharm": {
     "name": "#%% md\n"
    }
   }
  },
  {
   "cell_type": "code",
   "execution_count": 13,
   "outputs": [
    {
     "name": "stdout",
     "output_type": "stream",
     "text": [
      "Stage 'text_augmentation' is cached - skipping run, checking out outputs\n",
      "Generating lock file 'dvc.lock'\n",
      "Updating lock file 'dvc.lock'\n",
      "Use `dvc push` to send your updates to remote storage.\n",
      "Stage 'text_augmentation' is cached - skipping run, checking out outputs\n",
      "Generating lock file 'dvc.lock'\n",
      "Updating lock file 'dvc.lock'\n",
      "Use `dvc push` to send your updates to remote storage.\n"
     ]
    },
    {
     "name": "stderr",
     "output_type": "stream",
     "text": [
      "INFO:dataci.dataset.update:Searching changes...\n",
      "INFO:dataci.dataset.update:Found 2 possible updates:\n",
      "INFO:dataci.dataset.update:| S.N. | Parent dataset                 >>> Pipeline                       |\n",
      "INFO:dataci.dataset.update:|    1 | pairwise_raw_train@134854f     >>> train_data_pipeline@ac84d6b    |\n",
      "INFO:dataci.dataset.update:|    2 | pairwise_raw_train@134854f     >>> train_data_pipeline@dd8a7ce    |\n",
      "INFO:dataci.dataset.update:Total 1 dataset version(s), 2 pipeline versions(s).\n",
      "INFO:dataci.dataset.update:Executing dataset update...\n",
      "INFO:dataci.run.save:Recover dvc file feat\\text_aug.csv.dvc\n",
      "INFO:dataci.dataset.publish:Caching dataset files: feat\\text_aug.csv\n",
      "\\u280b Collecting stages from the workspace\n",
      "\\u2819 Collecting stages from the workspace\n",
      "\\u2819 Checking graph\n",
      "\n",
      "\u001B[31mERROR\u001B[39m: output 'feat\\text_aug.csv' is already specified in stage: 'text_augmentation'.\n",
      "INFO:dataci.dataset.publish:Adding dataset to db: train_data_pipeline:text_aug@9ac38e5de7df49690cdd39e2726db3b9cd30f7df\n",
      "INFO:dataci.pipeline.pipeline:pairwise_raw_train@134854fb9ad0090132e587e6a19e3f1f154319fa >>> train_data_pipeline@ac84d6b.run2 >>> train_data_pipeline:text_aug@None\n",
      "INFO:dataci.dataset.update:Finish 1/2\n",
      "INFO:dataci.run.save:Recover dvc file feat\\text_aug.csv.dvc\n",
      "INFO:dataci.dataset.publish:Caching dataset files: feat\\text_aug.csv\n",
      "\\u280b Collecting stages from the workspace\n",
      "\\u2819 Collecting stages from the workspace\n",
      "\\u2819 Checking graph\n",
      "\n",
      "\u001B[31mERROR\u001B[39m: output 'feat\\text_aug.csv' is already specified in stage: 'text_augmentation'.\n",
      "INFO:dataci.dataset.publish:Adding dataset to db: train_data_pipeline:text_aug@3db37008d04787bdcede967149e54f42732c3b33\n",
      "INFO:dataci.pipeline.pipeline:pairwise_raw_train@134854fb9ad0090132e587e6a19e3f1f154319fa >>> train_data_pipeline@dd8a7ce.run2 >>> train_data_pipeline:text_aug@None\n",
      "INFO:dataci.dataset.update:Finish 2/2\n"
     ]
    }
   ],
   "source": [
    "!python dataci/command/dataset.py update -n train_data_pipeline:text_aug"
   ],
   "metadata": {
    "collapsed": false,
    "pycharm": {
     "name": "#%%\n"
    }
   }
  },
  {
   "cell_type": "markdown",
   "source": [
    "# 4. Summary\n",
    "\n",
    "That is a long journey! Wait, how many dataset we have and what are their performance?\n",
    "It seems quite messy after we publish many datasets and pipelines, run a lot of workflows\n",
    "and benchmarks.\n",
    "Luckily, when we're developing our data pipelines, DataCI helps in managing and auditing all of them!"
   ],
   "metadata": {
    "collapsed": false,
    "pycharm": {
     "name": "#%% md\n"
    }
   }
  },
  {
   "cell_type": "markdown",
   "source": [
    "## 4.1 How many datasets and their relationship?\n",
    "\n",
    "1. Check all registered dataset"
   ],
   "metadata": {
    "collapsed": false,
    "pycharm": {
     "name": "#%% md\n"
    }
   }
  },
  {
   "cell_type": "code",
   "execution_count": 14,
   "outputs": [
    {
     "name": "stdout",
     "output_type": "stream",
     "text": [
      "pairwise_raw_train\n",
      "|  Version\tYield pipeline\tParent dataset\tSize\tCreate time\n",
      "|- 59e0e45\tN.A.\t\tNone@None\t\tN.A.\t2023-03-21 00:24:01\n",
      "|- 134854f\tN.A.\t\tNone@None\t\tN.A.\t2023-03-21 00:25:08\n",
      "pairwise_raw_val\n",
      "|  Version\tYield pipeline\tParent dataset\tSize\tCreate time\n",
      "|- e65eb67\tN.A.\t\tNone@None\t\tN.A.\t2023-03-21 00:24:03\n",
      "train_data_pipeline:text_aug\n",
      "|  Version\tYield pipeline\tParent dataset\tSize\tCreate time\n",
      "|- 15700c1\ttrain_data_pipeline@dd8a7ce\t\tpairwise_raw_train@59e0e450440ba164f958621b15ed7e922cb96e80\t\tN.A.\t2023-03-21 00:24:30\n",
      "|- 8eda1ec\ttrain_data_pipeline@ac84d6b\t\tpairwise_raw_train@59e0e450440ba164f958621b15ed7e922cb96e80\t\tN.A.\t2023-03-21 00:24:57\n",
      "|- 9ac38e5\ttrain_data_pipeline@ac84d6b\t\tpairwise_raw_train@134854fb9ad0090132e587e6a19e3f1f154319fa\t\tN.A.\t2023-03-21 00:25:56\n",
      "|- 3db3700\ttrain_data_pipeline@dd8a7ce\t\tpairwise_raw_train@134854fb9ad0090132e587e6a19e3f1f154319fa\t\tN.A.\t2023-03-21 00:26:01\n"
     ]
    }
   ],
   "source": [
    "!python dataci/command/dataset.py ls"
   ],
   "metadata": {
    "collapsed": false,
    "pycharm": {
     "name": "#%%\n"
    }
   }
  },
  {
   "cell_type": "markdown",
   "source": [
    "2. Compair specific dataset versions:"
   ],
   "metadata": {
    "collapsed": false,
    "pycharm": {
     "name": "#%% md\n"
    }
   }
  },
  {
   "cell_type": "code",
   "execution_count": null,
   "outputs": [],
   "source": [
    "# TODO"
   ],
   "metadata": {
    "collapsed": false,
    "pycharm": {
     "name": "#%%\n"
    }
   }
  },
  {
   "cell_type": "markdown",
   "source": [
    "## 4.2 How many pipelines are built?"
   ],
   "metadata": {
    "collapsed": false,
    "pycharm": {
     "name": "#%% md\n"
    }
   }
  },
  {
   "cell_type": "code",
   "execution_count": 15,
   "outputs": [
    {
     "name": "stdout",
     "output_type": "stream",
     "text": [
      "train_data_pipeline\n",
      "|  Version\tCreate time\n",
      "|- dd8a7ce\t2023-03-21 00:24:06\n",
      "|    |- run1\n",
      "|    |- run2\n",
      "|- ac84d6b\t2023-03-21 00:24:38\n",
      "|    |- run1\n",
      "|    |- run2\n"
     ]
    }
   ],
   "source": [
    "!python dataci/command/pipeline.py ls"
   ],
   "metadata": {
    "collapsed": false,
    "pycharm": {
     "name": "#%%\n"
    }
   }
  }
 ],
 "metadata": {
  "kernelspec": {
   "display_name": "Python 3",
   "language": "python",
   "name": "python3"
  },
  "language_info": {
   "codemirror_mode": {
    "name": "ipython",
    "version": 2
   },
   "file_extension": ".py",
   "mimetype": "text/x-python",
   "name": "python",
   "nbconvert_exporter": "python",
   "pygments_lexer": "ipython2",
   "version": "2.7.6"
  }
 },
 "nbformat": 4,
 "nbformat_minor": 0
}